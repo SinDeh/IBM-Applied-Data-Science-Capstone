{
 "cells": [
  {
   "cell_type": "code",
   "execution_count": 1,
   "metadata": {},
   "outputs": [],
   "source": [
    "# Import required libraries\n",
    "import pandas as pd\n",
    "import dash\n",
    "from dash import html\n",
    "from dash import dcc\n",
    "from dash.dependencies import Input, Output\n",
    "import plotly.express as px\n"
   ]
  },
  {
   "cell_type": "code",
   "execution_count": 2,
   "metadata": {},
   "outputs": [],
   "source": [
    "# Read the airline data into pandas dataframe\n",
    "spacex_df = pd.read_csv(\"https://cf-courses-data.s3.us.cloud-object-storage.appdomain.cloud/IBM-DS0321EN-SkillsNetwork/datasets/spacex_launch_dash.csv\")\n",
    "max_payload = spacex_df['Payload Mass (kg)'].max()\n",
    "min_payload = spacex_df['Payload Mass (kg)'].min()\n"
   ]
  },
  {
   "cell_type": "code",
   "execution_count": 3,
   "metadata": {},
   "outputs": [],
   "source": [
    "# Create a dash application\n",
    "app = dash.Dash(__name__)\n"
   ]
  },
  {
   "cell_type": "code",
   "execution_count": 4,
   "metadata": {},
   "outputs": [],
   "source": [
    "# Add a dropdown list to enable Launch Site selection\n",
    "# The default select value is for ALL sites\n",
    "app.layout = html.Div(children=[\n",
    "       html.H1('SpaceX Launch Records Dashboard',\n",
    "              style={'textAlign': 'center', 'color': '#503D36', 'font-size': 40}),\n",
    "       \n",
    "       dcc.Dropdown(\n",
    "              id='site-dropdown',\n",
    "              options=[\n",
    "              {'label': 'All Sites', 'value': 'ALL'},\n",
    "              {'label': 'CCAFS LC-40', 'value': 'CCAFS LC-40'},\n",
    "              {'label': 'VAFB SLC-4E', 'value': 'VAFB SLC-4E'},\n",
    "              {'label': 'KSC LC-39A', 'value': 'KSC LC-39A'},\n",
    "              {'label': 'CCAFS SLC-40', 'value': 'CCAFS SLC-40'},\n",
    "              ],\n",
    "              value='ALL',\n",
    "              placeholder='Select a Launch Site',\n",
    "              searchable=False\n",
    "       ),\n",
    "       \n",
    "       html.Br(),\n",
    "       \n",
    "       html.Div(dcc.Graph(id='success-pie-chart')),\n",
    "       \n",
    "       html.Br(),\n",
    "       html.P(\"Payload range (Kg):\"),\n",
    "       \n",
    "       dcc.RangeSlider(\n",
    "              id='payload-slider',\n",
    "              min=min_payload,\n",
    "              max=max_payload,\n",
    "              step=1000,\n",
    "              value=[min_payload, max_payload],\n",
    "              marks={\n",
    "              0: {'label': str(min_payload)},\n",
    "              2500: {'label': '2500'},\n",
    "              5000: {'label': '5000'},\n",
    "              7500: {'label': '7500'},\n",
    "              10000: {'label': str(max_payload)}\n",
    "              }\n",
    "       ),\n",
    "       \n",
    "       html.Div(dcc.Graph(id='success-payload-scatter-chart'))\n",
    "])\n"
   ]
  },
  {
   "cell_type": "code",
   "execution_count": 5,
   "metadata": {},
   "outputs": [],
   "source": [
    "# TASK 2:\n",
    "# Add a callback function for `site-dropdown` as input, `success-pie-chart` as output\n",
    "\n",
    "@app.callback(\n",
    "    Output(component_id='success-pie-chart', component_property='figure'),\n",
    "    Input(component_id='site-dropdown', component_property='value')\n",
    ")\n",
    "def update_pie_chart(site):\n",
    "    if site == 'ALL':\n",
    "        fig = px.pie(spacex_df, values='class', names='Launch Site', title='Success Rate for All Launch Sites')\n",
    "    else:\n",
    "        filtered_df = spacex_df[spacex_df['Launch Site'] == site]\n",
    "        fig = px.pie(filtered_df, values='class', names='Unnamed: 0', title=f'Success Rate for {site}')\n",
    "    return fig\n",
    "\n",
    "# TASK 4:\n",
    "# Add a callback function for `site-dropdown` and `payload-slider` as inputs, `success-payload-scatter-chart` as output\n",
    "\n",
    "@app.callback(\n",
    "    Output(component_id='success-payload-scatter-chart', component_property='figure'),\n",
    "    [Input(component_id='site-dropdown', component_property='value'),\n",
    "    Input(component_id='payload-slider', component_property='value')]\n",
    ")\n",
    "def update_scatter_chart(site, payload_range):\n",
    "    lower_payload, upper_payload = payload_range\n",
    "    if site == 'ALL':\n",
    "        filtered_df = spacex_df[(spacex_df['Payload Mass (kg)'] >= lower_payload) & (spacex_df['Payload Mass (kg)'] <= upper_payload)]\n",
    "        fig = px.scatter(filtered_df, x='Payload Mass (kg)', y='class', color='Booster Version Category',\n",
    "                        title='Payload Mass vs. Launch Success for All Launch Sites', \n",
    "                        labels={'Payload Mass (kg)': 'Payload Mass (kg)', 'class': 'Launch Success'})\n",
    "    else:\n",
    "        filtered_df = spacex_df[(spacex_df['Launch Site'] == site) & (spacex_df['Payload Mass (kg)'] >= lower_payload) \n",
    "                                & (spacex_df['Payload Mass (kg)'] <= upper_payload)]\n",
    "        fig = px.scatter(filtered_df, x='Payload Mass (kg)', y='class', color='Booster Version Category',\n",
    "                        title=f'Payload Mass vs. Launch Success for {site}', \n",
    "                        labels={'Payload Mass (kg)': 'Payload Mass (kg)', 'class': 'Launch Success'})\n",
    "    return fig"
   ]
  },
  {
   "cell_type": "code",
   "execution_count": 6,
   "metadata": {},
   "outputs": [
    {
     "data": {
      "text/html": [
       "\n",
       "        <iframe\n",
       "            width=\"100%\"\n",
       "            height=\"650\"\n",
       "            src=\"http://127.0.0.1:8050/\"\n",
       "            frameborder=\"0\"\n",
       "            allowfullscreen\n",
       "            \n",
       "        ></iframe>\n",
       "        "
      ],
      "text/plain": [
       "<IPython.lib.display.IFrame at 0x1be884adc90>"
      ]
     },
     "metadata": {},
     "output_type": "display_data"
    }
   ],
   "source": [
    "# Run the app\n",
    "if __name__ == '__main__':\n",
    "    app.run_server(debug=True)"
   ]
  },
  {
   "cell_type": "markdown",
   "metadata": {},
   "source": [
    "With the completed dashboard, you can now easily analyze the SpaceX launch data and answer the following questions:\n",
    "\n",
    "Which site has the largest successful launches?\n",
    "\n",
    "You can refer to the pie chart titled \"Success Rate for All Launch Sites\" to see the number of successful launches for each site.\n",
    "Which site has the highest launch success rate?\n",
    "\n",
    "You can refer to the pie chart titled \"Success Rate for All Launch Sites\" to see the launch success rate for each site.\n",
    "Which payload range(s) has the highest launch success rate?\n",
    "\n",
    "You can use the scatter plot titled \"Payload Mass vs. Launch Success for All Launch Sites\" and analyze the data points to determine the payload range(s) with the highest launch success rate. You can hover over the data points to see the specific payload mass and launch success.\n",
    "Which payload range(s) has the lowest launch success rate?\n",
    "\n",
    "Similarly, you can analyze the scatter plot titled \"Payload Mass vs. Launch Success for All Launch Sites\" and identify the payload range(s) with the lowest launch success rate by examining the data points.\n",
    "Which F9 Booster version (v1.0, v1.1, FT, B4, B5, etc.) has the highest launch success rate?\n",
    "\n",
    "You can refer to the scatter plot titled \"Payload Mass vs. Launch Success for All Launch Sites\" and use the color coding to identify the F9 Booster version with the highest launch success rate. The legend in the plot will provide the information about the Booster version corresponding to each color.\n",
    "By interacting with the dropdown menus and slider on the dashboard, you can filter the data and obtain more specific insights based on your requirements."
   ]
  }
 ],
 "metadata": {
  "kernelspec": {
   "display_name": "Python 3",
   "language": "python",
   "name": "python3"
  },
  "language_info": {
   "codemirror_mode": {
    "name": "ipython",
    "version": 3
   },
   "file_extension": ".py",
   "mimetype": "text/x-python",
   "name": "python",
   "nbconvert_exporter": "python",
   "pygments_lexer": "ipython3",
   "version": "3.10.4"
  },
  "orig_nbformat": 4
 },
 "nbformat": 4,
 "nbformat_minor": 2
}
